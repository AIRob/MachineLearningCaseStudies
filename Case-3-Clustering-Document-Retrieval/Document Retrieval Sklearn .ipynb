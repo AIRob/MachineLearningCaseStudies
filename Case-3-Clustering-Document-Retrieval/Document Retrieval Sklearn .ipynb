{
 "cells": [
  {
   "cell_type": "markdown",
   "metadata": {},
   "source": [
    "# Document retrieval project in Sklearn"
   ]
  },
  {
   "cell_type": "markdown",
   "metadata": {},
   "source": [
    "# Fire up packages"
   ]
  },
  {
   "cell_type": "code",
   "execution_count": 1,
   "metadata": {
    "collapsed": true
   },
   "outputs": [],
   "source": [
    "import sklearn\n",
    "import matplotlib.pyplot as plt\n",
    "%matplotlib inline\n",
    "import pandas\n",
    "from sklearn.cross_validation import train_test_split\n",
    "import numpy"
   ]
  },
  {
   "cell_type": "markdown",
   "metadata": {},
   "source": [
    "# Load data"
   ]
  },
  {
   "cell_type": "code",
   "execution_count": 2,
   "metadata": {
    "collapsed": true
   },
   "outputs": [],
   "source": [
    "people = pandas.read_csv('people_wiki.csv')"
   ]
  },
  {
   "cell_type": "code",
   "execution_count": 3,
   "metadata": {
    "collapsed": false
   },
   "outputs": [
    {
     "data": {
      "text/html": [
       "<div>\n",
       "<table border=\"1\" class=\"dataframe\">\n",
       "  <thead>\n",
       "    <tr style=\"text-align: right;\">\n",
       "      <th></th>\n",
       "      <th>URI</th>\n",
       "      <th>name</th>\n",
       "      <th>text</th>\n",
       "    </tr>\n",
       "  </thead>\n",
       "  <tbody>\n",
       "    <tr>\n",
       "      <th>0</th>\n",
       "      <td>&lt;http://dbpedia.org/resource/Digby_Morrell&gt;</td>\n",
       "      <td>Digby Morrell</td>\n",
       "      <td>digby morrell born 10 october 1979 is a former...</td>\n",
       "    </tr>\n",
       "    <tr>\n",
       "      <th>1</th>\n",
       "      <td>&lt;http://dbpedia.org/resource/Alfred_J._Lewy&gt;</td>\n",
       "      <td>Alfred J. Lewy</td>\n",
       "      <td>alfred j lewy aka sandy lewy graduated from un...</td>\n",
       "    </tr>\n",
       "    <tr>\n",
       "      <th>2</th>\n",
       "      <td>&lt;http://dbpedia.org/resource/Harpdog_Brown&gt;</td>\n",
       "      <td>Harpdog Brown</td>\n",
       "      <td>harpdog brown is a singer and harmonica player...</td>\n",
       "    </tr>\n",
       "    <tr>\n",
       "      <th>3</th>\n",
       "      <td>&lt;http://dbpedia.org/resource/Franz_Rottensteiner&gt;</td>\n",
       "      <td>Franz Rottensteiner</td>\n",
       "      <td>franz rottensteiner born in waidmannsfeld lowe...</td>\n",
       "    </tr>\n",
       "    <tr>\n",
       "      <th>4</th>\n",
       "      <td>&lt;http://dbpedia.org/resource/G-Enka&gt;</td>\n",
       "      <td>G-Enka</td>\n",
       "      <td>henry krvits born 30 december 1974 in tallinn ...</td>\n",
       "    </tr>\n",
       "  </tbody>\n",
       "</table>\n",
       "</div>"
      ],
      "text/plain": [
       "                                                 URI                 name  \\\n",
       "0        <http://dbpedia.org/resource/Digby_Morrell>        Digby Morrell   \n",
       "1       <http://dbpedia.org/resource/Alfred_J._Lewy>       Alfred J. Lewy   \n",
       "2        <http://dbpedia.org/resource/Harpdog_Brown>        Harpdog Brown   \n",
       "3  <http://dbpedia.org/resource/Franz_Rottensteiner>  Franz Rottensteiner   \n",
       "4               <http://dbpedia.org/resource/G-Enka>               G-Enka   \n",
       "\n",
       "                                                text  \n",
       "0  digby morrell born 10 october 1979 is a former...  \n",
       "1  alfred j lewy aka sandy lewy graduated from un...  \n",
       "2  harpdog brown is a singer and harmonica player...  \n",
       "3  franz rottensteiner born in waidmannsfeld lowe...  \n",
       "4  henry krvits born 30 december 1974 in tallinn ...  "
      ]
     },
     "execution_count": 3,
     "metadata": {},
     "output_type": "execute_result"
    }
   ],
   "source": [
    "people.head()"
   ]
  },
  {
   "cell_type": "markdown",
   "metadata": {},
   "source": [
    "# NLP for clustering: create tfidf column in data frame"
   ]
  },
  {
   "cell_type": "markdown",
   "metadata": {},
   "source": [
    "**Different from classification case, the clustering analysis does not have to remove stopwords. The tfidf method can downweight the unnecsssary word. However, I still believe that removing the stopwords can help to improve the performance of model.**"
   ]
  },
  {
   "cell_type": "code",
   "execution_count": 8,
   "metadata": {
    "collapsed": true
   },
   "outputs": [],
   "source": [
    "import re\n",
    "import nltk\n",
    "from nltk.corpus import stopwords # Import the stop word list"
   ]
  },
  {
   "cell_type": "code",
   "execution_count": 9,
   "metadata": {
    "collapsed": true
   },
   "outputs": [],
   "source": [
    "def to_words(raw_review):\n",
    "    letters_only = re.sub(\"[^a-zA-Z]\", \" \", raw_review) \n",
    "    words = letters_only.lower().split()                             \n",
    "    stops = set(stopwords.words(\"english\"))                  \n",
    "    meaningful_words = [w for w in words if not w in stops] \n",
    "    return( \" \".join( meaningful_words )) "
   ]
  },
  {
   "cell_type": "markdown",
   "metadata": {},
   "source": [
    "** The next step will be creating the feature matrix by using tfidf techniques**"
   ]
  },
  {
   "cell_type": "code",
   "execution_count": 10,
   "metadata": {
    "collapsed": true
   },
   "outputs": [],
   "source": [
    "clean_text=[]\n",
    "for each in people['text']:\n",
    "    clean_text.append(to_words(each))"
   ]
  },
  {
   "cell_type": "code",
   "execution_count": 11,
   "metadata": {
    "collapsed": true
   },
   "outputs": [],
   "source": [
    "from sklearn.feature_extraction.text import TfidfVectorizer\n",
    "tfidf=TfidfVectorizer()\n",
    "features=tfidf.fit_transform(clean_text)"
   ]
  },
  {
   "cell_type": "markdown",
   "metadata": {},
   "source": [
    "** Then the feature for clustering is created. We can use it to fit in machine learning model**"
   ]
  },
  {
   "cell_type": "markdown",
   "metadata": {},
   "source": [
    "# Implementing clustering techniques"
   ]
  },
  {
   "cell_type": "markdown",
   "metadata": {},
   "source": [
    "## Cosine Distance Examining"
   ]
  },
  {
   "cell_type": "code",
   "execution_count": 33,
   "metadata": {
    "collapsed": true
   },
   "outputs": [],
   "source": [
    "from sklearn.metrics.pairwise import cosine_distances as CD"
   ]
  },
  {
   "cell_type": "markdown",
   "metadata": {},
   "source": [
    "** Let us check the Cosine distance of some pairs of people**"
   ]
  },
  {
   "cell_type": "code",
   "execution_count": 28,
   "metadata": {
    "collapsed": false
   },
   "outputs": [],
   "source": [
    "obama=people[people['name']=='Barack Obama'].index.tolist()[0]\n",
    "beckham=people[people['name']=='David Beckham'].index.tolist()[0]\n",
    "clinton=people[people['name']=='Bill Clinton'].index.tolist()[0]\n",
    "swift=people[people['name']=='Taylor Swift'].index.tolist()[0]"
   ]
  },
  {
   "cell_type": "code",
   "execution_count": 37,
   "metadata": {
    "collapsed": false
   },
   "outputs": [
    {
     "name": "stdout",
     "output_type": "stream",
     "text": [
      "Cosine distance between Obama and Beckham is  [[ 0.97828055]]\n",
      "Cosine distance between Obama and Clinton is  [[ 0.8090512]]\n",
      "Cosine distance between Obama and Swift is  [[ 0.96103638]]\n"
     ]
    }
   ],
   "source": [
    "print 'Cosine distance between Obama and Beckham is '+' '+ str(CD(features[obama],features[beckham]))\n",
    "print 'Cosine distance between Obama and Clinton is '+' '+ str(CD(features[obama],features[clinton]))\n",
    "print 'Cosine distance between Obama and Swift is '+' '+ str(CD(features[obama],features[swift]))"
   ]
  },
  {
   "cell_type": "markdown",
   "metadata": {},
   "source": [
    "** Smaller cosine distance represents more obvious similarity. We can see from the above example that the features really make sense!**"
   ]
  },
  {
   "cell_type": "markdown",
   "metadata": {},
   "source": [
    "## Searching for nearest neighnours"
   ]
  },
  {
   "cell_type": "markdown",
   "metadata": {},
   "source": [
    "**Before fitting the model, I write several functions that can boost the efficiency of result query.**"
   ]
  },
  {
   "cell_type": "code",
   "execution_count": 96,
   "metadata": {
    "collapsed": true
   },
   "outputs": [],
   "source": [
    "def person(name):\n",
    "    return int(people[people['name']==name].index.tolist()[0])"
   ]
  },
  {
   "cell_type": "markdown",
   "metadata": {},
   "source": [
    "### K-Nearest-Neighbours"
   ]
  },
  {
   "cell_type": "code",
   "execution_count": 41,
   "metadata": {
    "collapsed": true
   },
   "outputs": [],
   "source": [
    "from sklearn.neighbors import NearestNeighbors\n",
    "knn=NearestNeighbors(n_neighbors=20,algorithm='brute',metric='cosine')"
   ]
  },
  {
   "cell_type": "code",
   "execution_count": 44,
   "metadata": {
    "collapsed": true
   },
   "outputs": [],
   "source": [
    "knn_fit=knn.fit(features)"
   ]
  },
  {
   "cell_type": "code",
   "execution_count": 100,
   "metadata": {
    "collapsed": false
   },
   "outputs": [],
   "source": [
    "query_name=int(person('Barack Obama'))"
   ]
  },
  {
   "cell_type": "code",
   "execution_count": 114,
   "metadata": {
    "collapsed": false
   },
   "outputs": [],
   "source": [
    "Obama_Neighbours=knn_fit.kneighbors(features[query_name])"
   ]
  },
  {
   "cell_type": "code",
   "execution_count": 113,
   "metadata": {
    "collapsed": false
   },
   "outputs": [
    {
     "data": {
      "text/html": [
       "<div>\n",
       "<table border=\"1\" class=\"dataframe\">\n",
       "  <thead>\n",
       "    <tr style=\"text-align: right;\">\n",
       "      <th></th>\n",
       "      <th>Index</th>\n",
       "      <th>Name</th>\n",
       "      <th>Cosine Similariry</th>\n",
       "      <th>Cosine Distance</th>\n",
       "    </tr>\n",
       "  </thead>\n",
       "  <tbody>\n",
       "    <tr>\n",
       "      <th>0</th>\n",
       "      <td>35817</td>\n",
       "      <td>Barack Obama</td>\n",
       "      <td>-2.220446e-16</td>\n",
       "      <td>[[-2.22044604925e-16]]</td>\n",
       "    </tr>\n",
       "    <tr>\n",
       "      <th>1</th>\n",
       "      <td>24478</td>\n",
       "      <td>Joe Biden</td>\n",
       "      <td>6.618722e-01</td>\n",
       "      <td>[[0.661872189888]]</td>\n",
       "    </tr>\n",
       "    <tr>\n",
       "      <th>2</th>\n",
       "      <td>38376</td>\n",
       "      <td>Samantha Power</td>\n",
       "      <td>7.146266e-01</td>\n",
       "      <td>[[0.714626642722]]</td>\n",
       "    </tr>\n",
       "    <tr>\n",
       "      <th>3</th>\n",
       "      <td>57108</td>\n",
       "      <td>Hillary Rodham Clinton</td>\n",
       "      <td>7.257467e-01</td>\n",
       "      <td>[[0.725746708995]]</td>\n",
       "    </tr>\n",
       "    <tr>\n",
       "      <th>4</th>\n",
       "      <td>38714</td>\n",
       "      <td>Eric Stern (politician)</td>\n",
       "      <td>7.384940e-01</td>\n",
       "      <td>[[0.738493956427]]</td>\n",
       "    </tr>\n",
       "    <tr>\n",
       "      <th>5</th>\n",
       "      <td>6796</td>\n",
       "      <td>Eric Holder</td>\n",
       "      <td>7.542794e-01</td>\n",
       "      <td>[[0.754279418869]]</td>\n",
       "    </tr>\n",
       "    <tr>\n",
       "      <th>6</th>\n",
       "      <td>46140</td>\n",
       "      <td>Robert Gibbs</td>\n",
       "      <td>7.608155e-01</td>\n",
       "      <td>[[0.76081549297]]</td>\n",
       "    </tr>\n",
       "    <tr>\n",
       "      <th>7</th>\n",
       "      <td>18827</td>\n",
       "      <td>Henry Waxman</td>\n",
       "      <td>7.687019e-01</td>\n",
       "      <td>[[0.768701913587]]</td>\n",
       "    </tr>\n",
       "    <tr>\n",
       "      <th>8</th>\n",
       "      <td>2412</td>\n",
       "      <td>Joe the Plumber</td>\n",
       "      <td>7.696896e-01</td>\n",
       "      <td>[[0.769689577443]]</td>\n",
       "    </tr>\n",
       "    <tr>\n",
       "      <th>9</th>\n",
       "      <td>44681</td>\n",
       "      <td>Jesse Lee (politician)</td>\n",
       "      <td>7.703970e-01</td>\n",
       "      <td>[[0.770396987202]]</td>\n",
       "    </tr>\n",
       "    <tr>\n",
       "      <th>10</th>\n",
       "      <td>46811</td>\n",
       "      <td>Jeff Sessions</td>\n",
       "      <td>7.777356e-01</td>\n",
       "      <td>[[0.777735592548]]</td>\n",
       "    </tr>\n",
       "    <tr>\n",
       "      <th>11</th>\n",
       "      <td>23737</td>\n",
       "      <td>John D. McCormick</td>\n",
       "      <td>7.830630e-01</td>\n",
       "      <td>[[0.783063015367]]</td>\n",
       "    </tr>\n",
       "    <tr>\n",
       "      <th>12</th>\n",
       "      <td>39357</td>\n",
       "      <td>John McCain</td>\n",
       "      <td>7.847937e-01</td>\n",
       "      <td>[[0.784793702696]]</td>\n",
       "    </tr>\n",
       "    <tr>\n",
       "      <th>13</th>\n",
       "      <td>4032</td>\n",
       "      <td>Kenneth D. Thompson</td>\n",
       "      <td>7.887448e-01</td>\n",
       "      <td>[[0.788744782537]]</td>\n",
       "    </tr>\n",
       "    <tr>\n",
       "      <th>14</th>\n",
       "      <td>48693</td>\n",
       "      <td>Artur Davis</td>\n",
       "      <td>7.892915e-01</td>\n",
       "      <td>[[0.789291491933]]</td>\n",
       "    </tr>\n",
       "    <tr>\n",
       "      <th>15</th>\n",
       "      <td>7914</td>\n",
       "      <td>Phil Schiliro</td>\n",
       "      <td>7.904358e-01</td>\n",
       "      <td>[[0.790435816007]]</td>\n",
       "    </tr>\n",
       "    <tr>\n",
       "      <th>16</th>\n",
       "      <td>7950</td>\n",
       "      <td>Elizabeth Warren</td>\n",
       "      <td>8.024873e-01</td>\n",
       "      <td>[[0.80248731234]]</td>\n",
       "    </tr>\n",
       "    <tr>\n",
       "      <th>17</th>\n",
       "      <td>28447</td>\n",
       "      <td>George W. Bush</td>\n",
       "      <td>8.025172e-01</td>\n",
       "      <td>[[0.802517205236]]</td>\n",
       "    </tr>\n",
       "    <tr>\n",
       "      <th>18</th>\n",
       "      <td>4845</td>\n",
       "      <td>Joe Walsh (Illinois politician)</td>\n",
       "      <td>8.033502e-01</td>\n",
       "      <td>[[0.80335018826]]</td>\n",
       "    </tr>\n",
       "    <tr>\n",
       "      <th>19</th>\n",
       "      <td>11394</td>\n",
       "      <td>John G. Levi</td>\n",
       "      <td>8.081644e-01</td>\n",
       "      <td>[[0.808164408426]]</td>\n",
       "    </tr>\n",
       "  </tbody>\n",
       "</table>\n",
       "</div>"
      ],
      "text/plain": [
       "    Index                             Name  Cosine Similariry  \\\n",
       "0   35817                     Barack Obama      -2.220446e-16   \n",
       "1   24478                        Joe Biden       6.618722e-01   \n",
       "2   38376                   Samantha Power       7.146266e-01   \n",
       "3   57108           Hillary Rodham Clinton       7.257467e-01   \n",
       "4   38714          Eric Stern (politician)       7.384940e-01   \n",
       "5    6796                      Eric Holder       7.542794e-01   \n",
       "6   46140                     Robert Gibbs       7.608155e-01   \n",
       "7   18827                     Henry Waxman       7.687019e-01   \n",
       "8    2412                  Joe the Plumber       7.696896e-01   \n",
       "9   44681           Jesse Lee (politician)       7.703970e-01   \n",
       "10  46811                    Jeff Sessions       7.777356e-01   \n",
       "11  23737                John D. McCormick       7.830630e-01   \n",
       "12  39357                      John McCain       7.847937e-01   \n",
       "13   4032              Kenneth D. Thompson       7.887448e-01   \n",
       "14  48693                      Artur Davis       7.892915e-01   \n",
       "15   7914                    Phil Schiliro       7.904358e-01   \n",
       "16   7950                 Elizabeth Warren       8.024873e-01   \n",
       "17  28447                   George W. Bush       8.025172e-01   \n",
       "18   4845  Joe Walsh (Illinois politician)       8.033502e-01   \n",
       "19  11394                     John G. Levi       8.081644e-01   \n",
       "\n",
       "           Cosine Distance  \n",
       "0   [[-2.22044604925e-16]]  \n",
       "1       [[0.661872189888]]  \n",
       "2       [[0.714626642722]]  \n",
       "3       [[0.725746708995]]  \n",
       "4       [[0.738493956427]]  \n",
       "5       [[0.754279418869]]  \n",
       "6        [[0.76081549297]]  \n",
       "7       [[0.768701913587]]  \n",
       "8       [[0.769689577443]]  \n",
       "9       [[0.770396987202]]  \n",
       "10      [[0.777735592548]]  \n",
       "11      [[0.783063015367]]  \n",
       "12      [[0.784793702696]]  \n",
       "13      [[0.788744782537]]  \n",
       "14      [[0.789291491933]]  \n",
       "15      [[0.790435816007]]  \n",
       "16       [[0.80248731234]]  \n",
       "17      [[0.802517205236]]  \n",
       "18       [[0.80335018826]]  \n",
       "19      [[0.808164408426]]  "
      ]
     },
     "execution_count": 113,
     "metadata": {},
     "output_type": "execute_result"
    }
   ],
   "source": [
    "Result= pandas.DataFrame({'Index':Obama_Neighbours[1].tolist()[0]})\n",
    "Result['Name']=Result['Index'].apply(lambda x: people['name'][x])\n",
    "Result['Cosine Similariry']=Obama_Neighbours[0].tolist()[0]\n",
    "Result['Cosine Distance']=Result['Index'].apply(lambda x: CD(features[Result['Index'][0]],features[x]))\n",
    "Result"
   ]
  },
  {
   "cell_type": "markdown",
   "metadata": {},
   "source": [
    "**The result of clustering analysis should be judged by people's experience. In this case, we can see that the result does make sense**"
   ]
  },
  {
   "cell_type": "markdown",
   "metadata": {},
   "source": [
    "**Since we are making a text retrieval system, I will combine the above steps together in a function so the search for similar articles will be more convenient.**"
   ]
  },
  {
   "cell_type": "code",
   "execution_count": 117,
   "metadata": {
    "collapsed": true
   },
   "outputs": [],
   "source": [
    "def knn_query(name,neighbours=20):\n",
    "    name_index=int(people[people['name']==name].index.tolist()[0])\n",
    "    knn=NearestNeighbors(n_neighbors=neighbours,algorithm='brute',metric='cosine')\n",
    "    knn_fit=knn.fit(features)\n",
    "    knn_result=knn_fit.kneighbors(features[name_index])\n",
    "    Result= pandas.DataFrame({'Index':knn_result[1].tolist()[0]})\n",
    "    Result['Name']=Result['Index'].apply(lambda x: people['name'][x])\n",
    "    Result['Cosine Similariry']=knn_result[0].tolist()[0]\n",
    "    Result['Cosine Distance']=Result['Index'].apply(lambda x: CD(features[Result['Index'][0]],features[x]))\n",
    "    return Result"
   ]
  },
  {
   "cell_type": "code",
   "execution_count": 120,
   "metadata": {
    "collapsed": false
   },
   "outputs": [
    {
     "data": {
      "text/html": [
       "<div>\n",
       "<table border=\"1\" class=\"dataframe\">\n",
       "  <thead>\n",
       "    <tr style=\"text-align: right;\">\n",
       "      <th></th>\n",
       "      <th>Index</th>\n",
       "      <th>Name</th>\n",
       "      <th>Cosine Similariry</th>\n",
       "      <th>Cosine Distance</th>\n",
       "    </tr>\n",
       "  </thead>\n",
       "  <tbody>\n",
       "    <tr>\n",
       "      <th>0</th>\n",
       "      <td>23386</td>\n",
       "      <td>David Beckham</td>\n",
       "      <td>-2.220446e-16</td>\n",
       "      <td>[[-2.22044604925e-16]]</td>\n",
       "    </tr>\n",
       "    <tr>\n",
       "      <th>1</th>\n",
       "      <td>50411</td>\n",
       "      <td>Victoria Beckham</td>\n",
       "      <td>5.591475e-01</td>\n",
       "      <td>[[0.559147546617]]</td>\n",
       "    </tr>\n",
       "    <tr>\n",
       "      <th>2</th>\n",
       "      <td>24913</td>\n",
       "      <td>Bobby Charlton</td>\n",
       "      <td>7.056406e-01</td>\n",
       "      <td>[[0.705640553633]]</td>\n",
       "    </tr>\n",
       "    <tr>\n",
       "      <th>3</th>\n",
       "      <td>53393</td>\n",
       "      <td>Steven Gerrard</td>\n",
       "      <td>7.352798e-01</td>\n",
       "      <td>[[0.735279811321]]</td>\n",
       "    </tr>\n",
       "    <tr>\n",
       "      <th>4</th>\n",
       "      <td>43981</td>\n",
       "      <td>Fernando Torres</td>\n",
       "      <td>7.483658e-01</td>\n",
       "      <td>[[0.748365827569]]</td>\n",
       "    </tr>\n",
       "    <tr>\n",
       "      <th>5</th>\n",
       "      <td>26762</td>\n",
       "      <td>Wayne Rooney</td>\n",
       "      <td>7.494050e-01</td>\n",
       "      <td>[[0.749405036692]]</td>\n",
       "    </tr>\n",
       "    <tr>\n",
       "      <th>6</th>\n",
       "      <td>43098</td>\n",
       "      <td>Kim Milton Nielsen</td>\n",
       "      <td>7.649533e-01</td>\n",
       "      <td>[[0.764953307576]]</td>\n",
       "    </tr>\n",
       "    <tr>\n",
       "      <th>7</th>\n",
       "      <td>24258</td>\n",
       "      <td>Sol Campbell</td>\n",
       "      <td>7.669110e-01</td>\n",
       "      <td>[[0.766910976189]]</td>\n",
       "    </tr>\n",
       "    <tr>\n",
       "      <th>8</th>\n",
       "      <td>14068</td>\n",
       "      <td>Rio Ferdinand</td>\n",
       "      <td>7.743649e-01</td>\n",
       "      <td>[[0.774364871086]]</td>\n",
       "    </tr>\n",
       "    <tr>\n",
       "      <th>9</th>\n",
       "      <td>38672</td>\n",
       "      <td>Shay Given</td>\n",
       "      <td>7.751108e-01</td>\n",
       "      <td>[[0.775110836483]]</td>\n",
       "    </tr>\n",
       "  </tbody>\n",
       "</table>\n",
       "</div>"
      ],
      "text/plain": [
       "   Index                Name  Cosine Similariry         Cosine Distance\n",
       "0  23386       David Beckham      -2.220446e-16  [[-2.22044604925e-16]]\n",
       "1  50411    Victoria Beckham       5.591475e-01      [[0.559147546617]]\n",
       "2  24913      Bobby Charlton       7.056406e-01      [[0.705640553633]]\n",
       "3  53393      Steven Gerrard       7.352798e-01      [[0.735279811321]]\n",
       "4  43981     Fernando Torres       7.483658e-01      [[0.748365827569]]\n",
       "5  26762        Wayne Rooney       7.494050e-01      [[0.749405036692]]\n",
       "6  43098  Kim Milton Nielsen       7.649533e-01      [[0.764953307576]]\n",
       "7  24258        Sol Campbell       7.669110e-01      [[0.766910976189]]\n",
       "8  14068       Rio Ferdinand       7.743649e-01      [[0.774364871086]]\n",
       "9  38672          Shay Given       7.751108e-01      [[0.775110836483]]"
      ]
     },
     "execution_count": 120,
     "metadata": {},
     "output_type": "execute_result"
    }
   ],
   "source": [
    "knn_query('David Beckham',10)"
   ]
  },
  {
   "cell_type": "markdown",
   "metadata": {},
   "source": [
    "**The KNN model really makes sense. Next, I will try other two models and compare the result of clustering analysis**"
   ]
  },
  {
   "cell_type": "markdown",
   "metadata": {},
   "source": [
    "### Try more cases in order to justify the reasonability of the method"
   ]
  },
  {
   "cell_type": "code",
   "execution_count": 129,
   "metadata": {
    "collapsed": false
   },
   "outputs": [
    {
     "data": {
      "text/html": [
       "<div>\n",
       "<table border=\"1\" class=\"dataframe\">\n",
       "  <thead>\n",
       "    <tr style=\"text-align: right;\">\n",
       "      <th></th>\n",
       "      <th>Index</th>\n",
       "      <th>Name</th>\n",
       "      <th>Cosine Similariry</th>\n",
       "      <th>Cosine Distance</th>\n",
       "    </tr>\n",
       "  </thead>\n",
       "  <tbody>\n",
       "    <tr>\n",
       "      <th>0</th>\n",
       "      <td>35817</td>\n",
       "      <td>Barack Obama</td>\n",
       "      <td>-2.220446e-16</td>\n",
       "      <td>[[-2.22044604925e-16]]</td>\n",
       "    </tr>\n",
       "    <tr>\n",
       "      <th>1</th>\n",
       "      <td>24478</td>\n",
       "      <td>Joe Biden</td>\n",
       "      <td>6.618722e-01</td>\n",
       "      <td>[[0.661872189888]]</td>\n",
       "    </tr>\n",
       "    <tr>\n",
       "      <th>2</th>\n",
       "      <td>38376</td>\n",
       "      <td>Samantha Power</td>\n",
       "      <td>7.146266e-01</td>\n",
       "      <td>[[0.714626642722]]</td>\n",
       "    </tr>\n",
       "    <tr>\n",
       "      <th>3</th>\n",
       "      <td>57108</td>\n",
       "      <td>Hillary Rodham Clinton</td>\n",
       "      <td>7.257467e-01</td>\n",
       "      <td>[[0.725746708995]]</td>\n",
       "    </tr>\n",
       "    <tr>\n",
       "      <th>4</th>\n",
       "      <td>38714</td>\n",
       "      <td>Eric Stern (politician)</td>\n",
       "      <td>7.384940e-01</td>\n",
       "      <td>[[0.738493956427]]</td>\n",
       "    </tr>\n",
       "    <tr>\n",
       "      <th>5</th>\n",
       "      <td>6796</td>\n",
       "      <td>Eric Holder</td>\n",
       "      <td>7.542794e-01</td>\n",
       "      <td>[[0.754279418869]]</td>\n",
       "    </tr>\n",
       "    <tr>\n",
       "      <th>6</th>\n",
       "      <td>46140</td>\n",
       "      <td>Robert Gibbs</td>\n",
       "      <td>7.608155e-01</td>\n",
       "      <td>[[0.76081549297]]</td>\n",
       "    </tr>\n",
       "    <tr>\n",
       "      <th>7</th>\n",
       "      <td>18827</td>\n",
       "      <td>Henry Waxman</td>\n",
       "      <td>7.687019e-01</td>\n",
       "      <td>[[0.768701913587]]</td>\n",
       "    </tr>\n",
       "    <tr>\n",
       "      <th>8</th>\n",
       "      <td>2412</td>\n",
       "      <td>Joe the Plumber</td>\n",
       "      <td>7.696896e-01</td>\n",
       "      <td>[[0.769689577443]]</td>\n",
       "    </tr>\n",
       "    <tr>\n",
       "      <th>9</th>\n",
       "      <td>44681</td>\n",
       "      <td>Jesse Lee (politician)</td>\n",
       "      <td>7.703970e-01</td>\n",
       "      <td>[[0.770396987202]]</td>\n",
       "    </tr>\n",
       "    <tr>\n",
       "      <th>10</th>\n",
       "      <td>46811</td>\n",
       "      <td>Jeff Sessions</td>\n",
       "      <td>7.777356e-01</td>\n",
       "      <td>[[0.777735592548]]</td>\n",
       "    </tr>\n",
       "    <tr>\n",
       "      <th>11</th>\n",
       "      <td>23737</td>\n",
       "      <td>John D. McCormick</td>\n",
       "      <td>7.830630e-01</td>\n",
       "      <td>[[0.783063015367]]</td>\n",
       "    </tr>\n",
       "    <tr>\n",
       "      <th>12</th>\n",
       "      <td>39357</td>\n",
       "      <td>John McCain</td>\n",
       "      <td>7.847937e-01</td>\n",
       "      <td>[[0.784793702696]]</td>\n",
       "    </tr>\n",
       "    <tr>\n",
       "      <th>13</th>\n",
       "      <td>4032</td>\n",
       "      <td>Kenneth D. Thompson</td>\n",
       "      <td>7.887448e-01</td>\n",
       "      <td>[[0.788744782537]]</td>\n",
       "    </tr>\n",
       "    <tr>\n",
       "      <th>14</th>\n",
       "      <td>48693</td>\n",
       "      <td>Artur Davis</td>\n",
       "      <td>7.892915e-01</td>\n",
       "      <td>[[0.789291491933]]</td>\n",
       "    </tr>\n",
       "    <tr>\n",
       "      <th>15</th>\n",
       "      <td>7914</td>\n",
       "      <td>Phil Schiliro</td>\n",
       "      <td>7.904358e-01</td>\n",
       "      <td>[[0.790435816007]]</td>\n",
       "    </tr>\n",
       "    <tr>\n",
       "      <th>16</th>\n",
       "      <td>7950</td>\n",
       "      <td>Elizabeth Warren</td>\n",
       "      <td>8.024873e-01</td>\n",
       "      <td>[[0.80248731234]]</td>\n",
       "    </tr>\n",
       "    <tr>\n",
       "      <th>17</th>\n",
       "      <td>28447</td>\n",
       "      <td>George W. Bush</td>\n",
       "      <td>8.025172e-01</td>\n",
       "      <td>[[0.802517205236]]</td>\n",
       "    </tr>\n",
       "    <tr>\n",
       "      <th>18</th>\n",
       "      <td>4845</td>\n",
       "      <td>Joe Walsh (Illinois politician)</td>\n",
       "      <td>8.033502e-01</td>\n",
       "      <td>[[0.80335018826]]</td>\n",
       "    </tr>\n",
       "    <tr>\n",
       "      <th>19</th>\n",
       "      <td>11394</td>\n",
       "      <td>John G. Levi</td>\n",
       "      <td>8.081644e-01</td>\n",
       "      <td>[[0.808164408426]]</td>\n",
       "    </tr>\n",
       "  </tbody>\n",
       "</table>\n",
       "</div>"
      ],
      "text/plain": [
       "    Index                             Name  Cosine Similariry  \\\n",
       "0   35817                     Barack Obama      -2.220446e-16   \n",
       "1   24478                        Joe Biden       6.618722e-01   \n",
       "2   38376                   Samantha Power       7.146266e-01   \n",
       "3   57108           Hillary Rodham Clinton       7.257467e-01   \n",
       "4   38714          Eric Stern (politician)       7.384940e-01   \n",
       "5    6796                      Eric Holder       7.542794e-01   \n",
       "6   46140                     Robert Gibbs       7.608155e-01   \n",
       "7   18827                     Henry Waxman       7.687019e-01   \n",
       "8    2412                  Joe the Plumber       7.696896e-01   \n",
       "9   44681           Jesse Lee (politician)       7.703970e-01   \n",
       "10  46811                    Jeff Sessions       7.777356e-01   \n",
       "11  23737                John D. McCormick       7.830630e-01   \n",
       "12  39357                      John McCain       7.847937e-01   \n",
       "13   4032              Kenneth D. Thompson       7.887448e-01   \n",
       "14  48693                      Artur Davis       7.892915e-01   \n",
       "15   7914                    Phil Schiliro       7.904358e-01   \n",
       "16   7950                 Elizabeth Warren       8.024873e-01   \n",
       "17  28447                   George W. Bush       8.025172e-01   \n",
       "18   4845  Joe Walsh (Illinois politician)       8.033502e-01   \n",
       "19  11394                     John G. Levi       8.081644e-01   \n",
       "\n",
       "           Cosine Distance  \n",
       "0   [[-2.22044604925e-16]]  \n",
       "1       [[0.661872189888]]  \n",
       "2       [[0.714626642722]]  \n",
       "3       [[0.725746708995]]  \n",
       "4       [[0.738493956427]]  \n",
       "5       [[0.754279418869]]  \n",
       "6        [[0.76081549297]]  \n",
       "7       [[0.768701913587]]  \n",
       "8       [[0.769689577443]]  \n",
       "9       [[0.770396987202]]  \n",
       "10      [[0.777735592548]]  \n",
       "11      [[0.783063015367]]  \n",
       "12      [[0.784793702696]]  \n",
       "13      [[0.788744782537]]  \n",
       "14      [[0.789291491933]]  \n",
       "15      [[0.790435816007]]  \n",
       "16       [[0.80248731234]]  \n",
       "17      [[0.802517205236]]  \n",
       "18       [[0.80335018826]]  \n",
       "19      [[0.808164408426]]  "
      ]
     },
     "execution_count": 129,
     "metadata": {},
     "output_type": "execute_result"
    }
   ],
   "source": [
    "knn_query('Barack Obama')"
   ]
  },
  {
   "cell_type": "code",
   "execution_count": 130,
   "metadata": {
    "collapsed": false
   },
   "outputs": [
    {
     "data": {
      "text/html": [
       "<div>\n",
       "<table border=\"1\" class=\"dataframe\">\n",
       "  <thead>\n",
       "    <tr style=\"text-align: right;\">\n",
       "      <th></th>\n",
       "      <th>Index</th>\n",
       "      <th>Name</th>\n",
       "      <th>Cosine Similariry</th>\n",
       "      <th>Cosine Distance</th>\n",
       "    </tr>\n",
       "  </thead>\n",
       "  <tbody>\n",
       "    <tr>\n",
       "      <th>0</th>\n",
       "      <td>54264</td>\n",
       "      <td>Taylor Swift</td>\n",
       "      <td>1.110223e-16</td>\n",
       "      <td>[[1.11022302463e-16]]</td>\n",
       "    </tr>\n",
       "    <tr>\n",
       "      <th>1</th>\n",
       "      <td>317</td>\n",
       "      <td>Carrie Underwood</td>\n",
       "      <td>6.964750e-01</td>\n",
       "      <td>[[0.696475012159]]</td>\n",
       "    </tr>\n",
       "    <tr>\n",
       "      <th>2</th>\n",
       "      <td>9379</td>\n",
       "      <td>Al Swift</td>\n",
       "      <td>7.028990e-01</td>\n",
       "      <td>[[0.702898984607]]</td>\n",
       "    </tr>\n",
       "    <tr>\n",
       "      <th>3</th>\n",
       "      <td>29297</td>\n",
       "      <td>Kelly Clarkson</td>\n",
       "      <td>7.047266e-01</td>\n",
       "      <td>[[0.704726570068]]</td>\n",
       "    </tr>\n",
       "    <tr>\n",
       "      <th>4</th>\n",
       "      <td>25403</td>\n",
       "      <td>Ed Sheeran</td>\n",
       "      <td>7.070672e-01</td>\n",
       "      <td>[[0.707067161949]]</td>\n",
       "    </tr>\n",
       "    <tr>\n",
       "      <th>5</th>\n",
       "      <td>52794</td>\n",
       "      <td>Bill Swift</td>\n",
       "      <td>7.117538e-01</td>\n",
       "      <td>[[0.71175375138]]</td>\n",
       "    </tr>\n",
       "    <tr>\n",
       "      <th>6</th>\n",
       "      <td>19943</td>\n",
       "      <td>Tim McGraw</td>\n",
       "      <td>7.160471e-01</td>\n",
       "      <td>[[0.71604708008]]</td>\n",
       "    </tr>\n",
       "    <tr>\n",
       "      <th>7</th>\n",
       "      <td>27793</td>\n",
       "      <td>Adele</td>\n",
       "      <td>7.165144e-01</td>\n",
       "      <td>[[0.716514435738]]</td>\n",
       "    </tr>\n",
       "    <tr>\n",
       "      <th>8</th>\n",
       "      <td>35807</td>\n",
       "      <td>Joss Stone</td>\n",
       "      <td>7.200933e-01</td>\n",
       "      <td>[[0.720093325558]]</td>\n",
       "    </tr>\n",
       "    <tr>\n",
       "      <th>9</th>\n",
       "      <td>1341</td>\n",
       "      <td>Dolly Parton</td>\n",
       "      <td>7.225681e-01</td>\n",
       "      <td>[[0.722568149167]]</td>\n",
       "    </tr>\n",
       "    <tr>\n",
       "      <th>10</th>\n",
       "      <td>17552</td>\n",
       "      <td>Ricky Martin</td>\n",
       "      <td>7.252368e-01</td>\n",
       "      <td>[[0.725236838454]]</td>\n",
       "    </tr>\n",
       "    <tr>\n",
       "      <th>11</th>\n",
       "      <td>45294</td>\n",
       "      <td>Miranda Lambert</td>\n",
       "      <td>7.321364e-01</td>\n",
       "      <td>[[0.732136423141]]</td>\n",
       "    </tr>\n",
       "    <tr>\n",
       "      <th>12</th>\n",
       "      <td>39541</td>\n",
       "      <td>Andrea Bocelli</td>\n",
       "      <td>7.359087e-01</td>\n",
       "      <td>[[0.735908707783]]</td>\n",
       "    </tr>\n",
       "    <tr>\n",
       "      <th>13</th>\n",
       "      <td>52888</td>\n",
       "      <td>Keith Urban</td>\n",
       "      <td>7.369563e-01</td>\n",
       "      <td>[[0.736956258304]]</td>\n",
       "    </tr>\n",
       "    <tr>\n",
       "      <th>14</th>\n",
       "      <td>6215</td>\n",
       "      <td>Amy Grant</td>\n",
       "      <td>7.375328e-01</td>\n",
       "      <td>[[0.737532810835]]</td>\n",
       "    </tr>\n",
       "    <tr>\n",
       "      <th>15</th>\n",
       "      <td>508</td>\n",
       "      <td>Faith Hill</td>\n",
       "      <td>7.419020e-01</td>\n",
       "      <td>[[0.741901950675]]</td>\n",
       "    </tr>\n",
       "    <tr>\n",
       "      <th>16</th>\n",
       "      <td>38592</td>\n",
       "      <td>Billy Ray Cyrus</td>\n",
       "      <td>7.457054e-01</td>\n",
       "      <td>[[0.745705429457]]</td>\n",
       "    </tr>\n",
       "    <tr>\n",
       "      <th>17</th>\n",
       "      <td>11639</td>\n",
       "      <td>Pink (singer)</td>\n",
       "      <td>7.464326e-01</td>\n",
       "      <td>[[0.746432565461]]</td>\n",
       "    </tr>\n",
       "    <tr>\n",
       "      <th>18</th>\n",
       "      <td>55438</td>\n",
       "      <td>Alicia Keys</td>\n",
       "      <td>7.476235e-01</td>\n",
       "      <td>[[0.747623457682]]</td>\n",
       "    </tr>\n",
       "    <tr>\n",
       "      <th>19</th>\n",
       "      <td>9552</td>\n",
       "      <td>George Strait</td>\n",
       "      <td>7.484711e-01</td>\n",
       "      <td>[[0.748471084335]]</td>\n",
       "    </tr>\n",
       "  </tbody>\n",
       "</table>\n",
       "</div>"
      ],
      "text/plain": [
       "    Index              Name  Cosine Similariry        Cosine Distance\n",
       "0   54264      Taylor Swift       1.110223e-16  [[1.11022302463e-16]]\n",
       "1     317  Carrie Underwood       6.964750e-01     [[0.696475012159]]\n",
       "2    9379          Al Swift       7.028990e-01     [[0.702898984607]]\n",
       "3   29297    Kelly Clarkson       7.047266e-01     [[0.704726570068]]\n",
       "4   25403        Ed Sheeran       7.070672e-01     [[0.707067161949]]\n",
       "5   52794        Bill Swift       7.117538e-01      [[0.71175375138]]\n",
       "6   19943        Tim McGraw       7.160471e-01      [[0.71604708008]]\n",
       "7   27793             Adele       7.165144e-01     [[0.716514435738]]\n",
       "8   35807        Joss Stone       7.200933e-01     [[0.720093325558]]\n",
       "9    1341      Dolly Parton       7.225681e-01     [[0.722568149167]]\n",
       "10  17552      Ricky Martin       7.252368e-01     [[0.725236838454]]\n",
       "11  45294   Miranda Lambert       7.321364e-01     [[0.732136423141]]\n",
       "12  39541    Andrea Bocelli       7.359087e-01     [[0.735908707783]]\n",
       "13  52888       Keith Urban       7.369563e-01     [[0.736956258304]]\n",
       "14   6215         Amy Grant       7.375328e-01     [[0.737532810835]]\n",
       "15    508        Faith Hill       7.419020e-01     [[0.741901950675]]\n",
       "16  38592   Billy Ray Cyrus       7.457054e-01     [[0.745705429457]]\n",
       "17  11639     Pink (singer)       7.464326e-01     [[0.746432565461]]\n",
       "18  55438       Alicia Keys       7.476235e-01     [[0.747623457682]]\n",
       "19   9552     George Strait       7.484711e-01     [[0.748471084335]]"
      ]
     },
     "execution_count": 130,
     "metadata": {},
     "output_type": "execute_result"
    }
   ],
   "source": [
    "knn_query('Taylor Swift')"
   ]
  },
  {
   "cell_type": "markdown",
   "metadata": {},
   "source": [
    "**We can find that the knn method really makes sense. Also, the speed of the whole procedure is fast enough, which can provide a satisfied result.**"
   ]
  },
  {
   "cell_type": "markdown",
   "metadata": {},
   "source": [
    "## Conclusion"
   ]
  },
  {
   "cell_type": "markdown",
   "metadata": {},
   "source": [
    "### 1: NLP, or natural language processing, will be the key to the subsquent step. Luckily the whole procedure is not that complicated.\n",
    "### 2: KNN is a powerful method to find similarity. However, this project is not clustering-oriented as it just requires the output of similar items. Kmeans will be the same algorithim implemented in clustering analysis. The result cannot be tested by test set. Instead, our background knowledge will be the key to test whether the method makes sense or not."
   ]
  },
  {
   "cell_type": "code",
   "execution_count": null,
   "metadata": {
    "collapsed": true
   },
   "outputs": [],
   "source": []
  }
 ],
 "metadata": {
  "anaconda-cloud": {},
  "kernelspec": {
   "display_name": "Python [conda env:gl-env]",
   "language": "python",
   "name": "conda-env-gl-env-py"
  },
  "language_info": {
   "codemirror_mode": {
    "name": "ipython",
    "version": 2
   },
   "file_extension": ".py",
   "mimetype": "text/x-python",
   "name": "python",
   "nbconvert_exporter": "python",
   "pygments_lexer": "ipython2",
   "version": "2.7.12"
  }
 },
 "nbformat": 4,
 "nbformat_minor": 1
}
